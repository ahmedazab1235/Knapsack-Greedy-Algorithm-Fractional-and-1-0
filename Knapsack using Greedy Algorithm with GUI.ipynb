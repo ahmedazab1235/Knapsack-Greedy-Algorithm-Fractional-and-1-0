{
 "cells": [
  {
   "cell_type": "markdown",
   "id": "f974aaa1",
   "metadata": {},
   "source": [
    "## Ahmed Essam Azab       \n",
    "## G7"
   ]
  },
  {
   "cell_type": "markdown",
   "id": "a9201a58",
   "metadata": {},
   "source": [
    "requirements :-"
   ]
  },
  {
   "cell_type": "markdown",
   "id": "abdc05cf",
   "metadata": {},
   "source": [
    "It is required to implement a python program that simulate a knapsack filling using a greedy algorithm. \n",
    "\n",
    "The program should start with a menu to choose from it:                \n",
    "1- The type of Knapsack ( Fractional - I/0)                     \n",
    "2- The cost function based on (Maximum Profit - Minimum Weight - Maximum Profit/Weight - All)              \n",
    "3- Update the objects and the maximum weight of the knapsack (constrain)              \n",
    "4- Close the program                  \n",
    "\n",
    "** Always think that this program may be used again with additional functionalities.                 \n",
    "\n",
    "** Any additional features may be considered as bonus."
   ]
  },
  {
   "cell_type": "markdown",
   "id": "586a05a0",
   "metadata": {},
   "source": [
    "# 1 - Fraction method \n"
   ]
  },
  {
   "cell_type": "markdown",
   "id": "88efe020",
   "metadata": {},
   "source": [
    "A brute-force solution would be to try all possible subset with all different fraction but that will be too much time taking. \n",
    "\n",
    "An efficient solution is to use Greedy approach. The basic idea of the greedy approach is to calculate the ratio value/weight for each item and sort the item on basis of this ratio. Then take the item with the highest ratio and add them until we can’t add the next item as a whole and at the end add the next item as much as we can. "
   ]
  },
  {
   "cell_type": "code",
   "execution_count": 1,
   "id": "fa6b8060",
   "metadata": {},
   "outputs": [],
   "source": [
    "def fractional_knapsack(value, weight, capacity):\n",
    "    \"\"\"Return maximum value of items and their fractional amounts.\n",
    " \n",
    "    (max_value, knapsack) is returned where max_value is the maximum value of\n",
    "    items with total weight not more than capacity.\n",
    "    knapsack is a list of what knapsack contain .\n",
    " \n",
    " \n",
    "    capacity is the maximum weight.\n",
    "    \"\"\"\n",
    "    # index = [0, 1, 2, ..., n - 1] for n items\n",
    "    index = list(range(len(value)))\n",
    "    # contains ratios of values to weight\n",
    "    ratio = [v/w for v, w in zip(value, weight)]\n",
    "    # index is sorted according to value-to-weight ratio in decreasing order\n",
    "    index.sort(key=lambda i: ratio[i], reverse=True)\n",
    " \n",
    "    max_value = 0\n",
    "    knapsack = [0]*len(value)\n",
    "    for i in index:\n",
    "        if weight[i] <= capacity:\n",
    "            knapsack[i] = weight[i]\n",
    "            max_value += value[i]\n",
    "            capacity -= weight[i]\n",
    "        else:\n",
    "            knapsack[i] = (capacity/weight[i]) * weight[i]\n",
    "            max_value += value[i]*capacity/weight[i]\n",
    "            break\n",
    " \n",
    "    return max_value, knapsack"
   ]
  },
  {
   "cell_type": "markdown",
   "id": "162e80c3",
   "metadata": {},
   "source": [
    "# 2- Non Fraction method (1/0)"
   ]
  },
  {
   "cell_type": "markdown",
   "id": "0ac19e6c",
   "metadata": {},
   "source": [
    "There is no known greedy algorithm solves 0-1 Knapsack problem Greedy fails because no future insight and no back track"
   ]
  },
  {
   "cell_type": "code",
   "execution_count": 2,
   "id": "963b2215",
   "metadata": {},
   "outputs": [],
   "source": [
    "def non_fractional_knapsack(value, weight, capacity):\n",
    "    \"\"\"Return maximum value of items.\n",
    " \n",
    "    (max_value, knapsack) is returned where max_value is the maximum value of\n",
    "    items with total weight not more than capacity.\n",
    "    knapsack is a list of what knapsack contain .\n",
    " \n",
    "    capacity is the maximum weight.\n",
    "    \"\"\"\n",
    "    # index = [0, 1, 2, ..., n - 1] for n items\n",
    "    index = list(range(len(value)))\n",
    "    # contains ratios of values to weight\n",
    "    ratio = [v/w for v, w in zip(value, weight)]\n",
    "    # index is sorted according to value-to-weight ratio in decreasing order\n",
    "    index.sort(key=lambda i: ratio[i], reverse=True)\n",
    " \n",
    "    max_value = 0\n",
    "    knapsack = [0]*len(value)\n",
    "    for i in index:\n",
    "        if weight[i] <= capacity:\n",
    "            knapsack[i] = weight[i]\n",
    "            max_value += value[i]\n",
    "            capacity -= weight[i]\n",
    "        else:\n",
    "            break\n",
    " \n",
    "    return max_value, knapsack"
   ]
  },
  {
   "cell_type": "code",
   "execution_count": 3,
   "id": "dedd2935",
   "metadata": {},
   "outputs": [],
   "source": [
    "from tkinter import *"
   ]
  },
  {
   "cell_type": "code",
   "execution_count": 4,
   "id": "b5bd741b",
   "metadata": {},
   "outputs": [],
   "source": [
    "window = Tk()\n",
    "\n",
    "window.title(\"Ahmed Essam Azab\")\n",
    "\n",
    "window.geometry('550x400')\n",
    "\n",
    "lbl = Label(window, text=\"Knapsack using Greedy Algorithm\")\n",
    "lbl.pack(ipadx=10, ipady=10)\n",
    "\n",
    "result = Label(window, text=\"\")\n",
    "result.pack(side=BOTTOM)\n",
    "\n",
    "result2 = Label(window, text=\"\")\n",
    "result2.pack(side=BOTTOM)\n",
    "\n",
    "\n",
    "lbl2 = Label(window, text=\"Enter the values of the {} item(s) in order:\").pack(anchor=NW)\n",
    "txt = Entry(window,width=25)\n",
    "txt.insert(0, \"60 100 120\")\n",
    "txt.focus()\n",
    "txt.pack()\n",
    "\n",
    "\n",
    "lbl3 = Label(window, text=\"Enter the positive weights of the {} item(s) in order:\").pack(anchor=NW)\n",
    "txt2 = Entry(window,width=25)\n",
    "txt2.insert(0, \"10 20 30\")\n",
    "txt2.pack()\n",
    "\n",
    "\n",
    "lbl4 = Label(window, text=\"Enter maximum weight:\").pack(anchor=NW)\n",
    "txt3 = Entry(window,width=25)\n",
    "txt3.insert(0, \"50\")\n",
    "txt3.pack()\n",
    "\n",
    "\n",
    "\n",
    "def clicked():\n",
    "    \n",
    "    x = txt.get()\n",
    "    \n",
    "    y = txt2.get()\n",
    "    \n",
    "    z = txt3.get()\n",
    "    \n",
    "    value = x.split()\n",
    "    value = [int(v) for v in value]\n",
    "    weight = y.split()\n",
    "    weight = [int(w) for w in weight]\n",
    "    capacity = int(z)\n",
    "\n",
    "    max_value, knapsack = fractional_knapsack(value, weight, capacity)\n",
    "    \n",
    "    max_value = 'Max value is ' + str(max_value)\n",
    "    \n",
    "    knapsack = 'knapsack is  ' + str(knapsack)\n",
    "\n",
    "    result.configure(text=max_value)\n",
    "    result2.configure(text=knapsack)\n",
    "\n",
    "def clicked2():\n",
    "    \n",
    "    x = txt.get()\n",
    "    \n",
    "    y = txt2.get()\n",
    "    \n",
    "    z = txt3.get()\n",
    "    \n",
    "    value = x.split()\n",
    "    value = [int(v) for v in value]\n",
    "    weight = y.split()\n",
    "    weight = [int(w) for w in weight]\n",
    "    capacity = int(z)\n",
    "\n",
    "    max_value, knapsack = non_fractional_knapsack(value, weight, capacity)\n",
    "    \n",
    "    max_value = 'Max value is ' + str(max_value)\n",
    "    \n",
    "    knapsack = 'knapsack is  ' + str(knapsack)\n",
    "\n",
    "    result.configure(text=max_value)\n",
    "    result2.configure(text=knapsack)\n",
    "\n",
    "btn = Button(window, text=\"fractional\", command=clicked,bg=\"orange\", fg=\"red\")\n",
    "\n",
    "btn.pack(ipadx=10, ipady=10)\n",
    "\n",
    "btn = Button(window, text=\"1/0\", command=clicked2,bg=\"orange\", fg=\"red\")\n",
    "\n",
    "btn.pack(ipadx=10, ipady=10)\n",
    "\n",
    "window.mainloop()\n"
   ]
  }
 ],
 "metadata": {
  "kernelspec": {
   "display_name": "Python 3",
   "language": "python",
   "name": "python3"
  },
  "language_info": {
   "codemirror_mode": {
    "name": "ipython",
    "version": 3
   },
   "file_extension": ".py",
   "mimetype": "text/x-python",
   "name": "python",
   "nbconvert_exporter": "python",
   "pygments_lexer": "ipython3",
   "version": "3.8.8"
  }
 },
 "nbformat": 4,
 "nbformat_minor": 5
}
