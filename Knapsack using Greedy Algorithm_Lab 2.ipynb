{
 "cells": [
  {
   "cell_type": "markdown",
   "id": "828aab31",
   "metadata": {},
   "source": [
    "## Ahmed Essam Azab       \n",
    "## G7"
   ]
  },
  {
   "cell_type": "markdown",
   "id": "96aac5f6",
   "metadata": {},
   "source": [
    "requirements :-"
   ]
  },
  {
   "cell_type": "markdown",
   "id": "c865ecba",
   "metadata": {},
   "source": [
    "It is required to implement a python program that simulate a knapsack filling using a greedy algorithm. \n",
    "\n",
    "The program should start with a menu to choose from it:                \n",
    "1- The type of Knapsack ( Fractional - I/0)                     \n",
    "2- The cost function based on (Maximum Profit - Minimum Weight - Maximum Profit/Weight - All)              \n",
    "3- Update the objects and the maximum weight of the knapsack (constrain)              \n",
    "4- Close the program                  \n",
    "\n",
    "** Always think that this program may be used again with additional functionalities.                 \n",
    "\n",
    "** Any additional features may be considered as bonus."
   ]
  },
  {
   "cell_type": "markdown",
   "id": "7732e57a",
   "metadata": {},
   "source": [
    "# 1 - Fraction method \n"
   ]
  },
  {
   "cell_type": "markdown",
   "id": "b23d1e8c",
   "metadata": {},
   "source": [
    "A brute-force solution would be to try all possible subset with all different fraction but that will be too much time taking. \n",
    "\n",
    "An efficient solution is to use Greedy approach. The basic idea of the greedy approach is to calculate the ratio value/weight for each item and sort the item on basis of this ratio. Then take the item with the highest ratio and add them until we can’t add the next item as a whole and at the end add the next item as much as we can. "
   ]
  },
  {
   "cell_type": "code",
   "execution_count": 30,
   "id": "b613c191",
   "metadata": {},
   "outputs": [],
   "source": [
    "def fractional_knapsack(value, weight, capacity):\n",
    "    \"\"\"Return maximum value of items and their fractional amounts.\n",
    " \n",
    "    (max_value, knapsack) is returned where max_value is the maximum value of\n",
    "    items with total weight not more than capacity.\n",
    "    knapsack is a list of what knapsack contain .\n",
    " \n",
    " \n",
    "    capacity is the maximum weight.\n",
    "    \"\"\"\n",
    "    # index = [0, 1, 2, ..., n - 1] for n items\n",
    "    index = list(range(len(value)))\n",
    "    # contains ratios of values to weight\n",
    "    ratio = [v/w for v, w in zip(value, weight)]\n",
    "    # index is sorted according to value-to-weight ratio in decreasing order\n",
    "    index.sort(key=lambda i: ratio[i], reverse=True)\n",
    " \n",
    "    max_value = 0\n",
    "    knapsack = [0]*len(value)\n",
    "    for i in index:\n",
    "        if weight[i] <= capacity:\n",
    "            knapsack[i] = weight[i]\n",
    "            max_value += value[i]\n",
    "            capacity -= weight[i]\n",
    "        else:\n",
    "            knapsack[i] = (capacity/weight[i]) * weight[i]\n",
    "            max_value += value[i]*capacity/weight[i]\n",
    "            break\n",
    " \n",
    "    return max_value, knapsack"
   ]
  },
  {
   "cell_type": "markdown",
   "id": "b254d7d2",
   "metadata": {},
   "source": [
    "# 2- Non Fraction method (1/0)"
   ]
  },
  {
   "cell_type": "markdown",
   "id": "a3726a70",
   "metadata": {},
   "source": [
    "There is no known greedy algorithm solves 0-1 Knapsack problem Greedy fails because no future insight and no back track"
   ]
  },
  {
   "cell_type": "code",
   "execution_count": 35,
   "id": "f8ac3cff",
   "metadata": {},
   "outputs": [],
   "source": [
    "def non_fractional_knapsack(value, weight, capacity):\n",
    "    \"\"\"Return maximum value of items.\n",
    " \n",
    "    (max_value, knapsack) is returned where max_value is the maximum value of\n",
    "    items with total weight not more than capacity.\n",
    "    knapsack is a list of what knapsack contain .\n",
    " \n",
    "    capacity is the maximum weight.\n",
    "    \"\"\"\n",
    "    # index = [0, 1, 2, ..., n - 1] for n items\n",
    "    index = list(range(len(value)))\n",
    "    # contains ratios of values to weight\n",
    "    ratio = [v/w for v, w in zip(value, weight)]\n",
    "    # index is sorted according to value-to-weight ratio in decreasing order\n",
    "    index.sort(key=lambda i: ratio[i], reverse=True)\n",
    " \n",
    "    max_value = 0\n",
    "    knapsack = [0]*len(value)\n",
    "    for i in index:\n",
    "        if weight[i] <= capacity:\n",
    "            knapsack[i] = weight[i]\n",
    "            max_value += value[i]\n",
    "            capacity -= weight[i]\n",
    "        else:\n",
    "            break\n",
    " \n",
    "    return max_value, knapsack"
   ]
  },
  {
   "cell_type": "code",
   "execution_count": 37,
   "id": "558675b0",
   "metadata": {},
   "outputs": [
    {
     "name": "stdout",
     "output_type": "stream",
     "text": [
      "choose the type you want to simulate a knapsack filling using a greedy algorithm\n",
      "\n",
      "1- Fractional\n",
      "2- I/0 \n",
      "\n",
      "2\n",
      "\n",
      "What you want :)\n",
      "1- Fixed values and weights\n",
      "2- I want to enter values and weights \n",
      "\n",
      "1\n",
      "The maximum value of items that can be carried: 160\n",
      "The fractions in which the items should be taken: [10, 20, 0]\n"
     ]
    }
   ],
   "source": [
    "print(\"choose the type you want to simulate a knapsack filling using a greedy algorithm\\n\")\n",
    "print(\"1- Fractional\")\n",
    "print(\"2- I/0 \\n\")\n",
    "choice2 = int(input(\"\"))\n",
    "\n",
    "if choice2 == \"Fractional\" or choice2 == \"fractional\" or choice2 == 1:\n",
    "    print(\"\\nWhat you want :)\")\n",
    "    print(\"1- Fixed values and weights\")\n",
    "    print(\"2- I want to enter values and weights \\n\")\n",
    "    choice1 = int(input(\"\"))\n",
    "    \n",
    "    if choice1 == 1:\n",
    "        value = [60, 100, 120]\n",
    "        weight = [10, 20, 30]\n",
    "        capacity = 50\n",
    "\n",
    "        max_value, fractions = fractional_knapsack(value, weight, capacity)\n",
    "        print('The maximum value of items that can be carried:', max_value)\n",
    "        print('The fractions in which the items should be taken:', fractions)\n",
    "        \n",
    "    elif choice1 == 2:\n",
    "        n = int(input('Enter number of items: '))\n",
    "        value = input('Enter the values of the {} item(s) in order: '\n",
    "                      .format(n)).split()\n",
    "        value = [int(v) for v in value]\n",
    "        weight = input('Enter the positive weights of the {} item(s) in order: '\n",
    "                       .format(n)).split()\n",
    "        weight = [int(w) for w in weight]\n",
    "        capacity = int(input('Enter maximum weight: '))\n",
    "\n",
    "        max_value, fractions = fractional_knapsack(value, weight, capacity)\n",
    "        print('\\nThe maximum value of items that can be carried:', max_value)\n",
    "        print('The fractions in which the items should be taken:', fractions)\n",
    "    \n",
    "    else :\n",
    "        print(\"you enter a wrong answer :)\")\n",
    "\n",
    "    \n",
    "elif choice2 == \"I/0\" or choice2 == \"i/o\" or choice2 == 2:\n",
    "    print(\"\\nWhat you want :)\")\n",
    "    print(\"1- Fixed values and weights\")\n",
    "    print(\"2- I want to enter values and weights \\n\")\n",
    "    choice1 = int(input(\"\"))\n",
    "    \n",
    "    if choice1 == 1:\n",
    "        value = [60, 100, 120]\n",
    "        weight = [10, 20, 30]\n",
    "        capacity = 50\n",
    "\n",
    "        max_value, fractions = non_fractional_knapsack(value, weight, capacity)\n",
    "        print('The maximum value of items that can be carried:', max_value)\n",
    "        print('The fractions in which the items should be taken:', fractions)\n",
    "        \n",
    "    elif choice1 == 2:\n",
    "        n = int(input('Enter number of items: '))\n",
    "        value = input('Enter the values of the {} item(s) in order: '\n",
    "                      .format(n)).split()\n",
    "        value = [int(v) for v in value]\n",
    "        weight = input('Enter the positive weights of the {} item(s) in order: '\n",
    "                       .format(n)).split()\n",
    "        weight = [int(w) for w in weight]\n",
    "        capacity = int(input('Enter maximum weight: '))\n",
    "\n",
    "        max_value, fractions = non_fractional_knapsack(value, weight, capacity)\n",
    "        print('\\nThe maximum value of items that can be carried:', max_value)\n",
    "        print('The fractions in which the items should be taken:', fractions)\n",
    "    \n",
    "    else :\n",
    "        print(\"you enter a wrong answer :)\")\n",
    "\n",
    "else :\n",
    "    print(\"you enter a wrong answer :)\")"
   ]
  },
  {
   "cell_type": "code",
   "execution_count": null,
   "id": "0f05ccfe",
   "metadata": {},
   "outputs": [],
   "source": []
  }
 ],
 "metadata": {
  "kernelspec": {
   "display_name": "Python 3",
   "language": "python",
   "name": "python3"
  },
  "language_info": {
   "codemirror_mode": {
    "name": "ipython",
    "version": 3
   },
   "file_extension": ".py",
   "mimetype": "text/x-python",
   "name": "python",
   "nbconvert_exporter": "python",
   "pygments_lexer": "ipython3",
   "version": "3.8.8"
  }
 },
 "nbformat": 4,
 "nbformat_minor": 5
}
